{
 "cells": [
  {
   "cell_type": "code",
   "execution_count": 1,
   "id": "5a33cf2d",
   "metadata": {},
   "outputs": [],
   "source": [
    "import requests\n",
    "import datetime \n",
    "import pandas as pd"
   ]
  },
  {
   "cell_type": "code",
   "execution_count": 3,
   "id": "45a8c764",
   "metadata": {},
   "outputs": [
    {
     "name": "stdout",
     "output_type": "stream",
     "text": [
      "2025-10-23\n",
      "2025-10-22\n"
     ]
    }
   ],
   "source": [
    "from datetime import date, timedelta\n",
    "# get todays date\n",
    "today = date.today()\n",
    "\n",
    "yesterday = today - timedelta(days=1)\n",
    "\n",
    "print(today)\n",
    "print(yesterday)\n"
   ]
  },
  {
   "cell_type": "code",
   "execution_count": 8,
   "id": "8175c09d",
   "metadata": {},
   "outputs": [
    {
     "name": "stdout",
     "output_type": "stream",
     "text": [
      "https://api.marketstack.com/v2/commoditieshistory?access_key=AAPL42a5862fcb3461b3179c267fe9789066&date=2025-10-22\n"
     ]
    }
   ],
   "source": [
    "url = f\"https://api.marketstack.com/v2/commoditieshistory?access_key=AAPL42a5862fcb3461b3179c267fe9789066&date={yesterday}\"\n",
    "print(url)"
   ]
  },
  {
   "cell_type": "code",
   "execution_count": 9,
   "id": "18ef71db",
   "metadata": {},
   "outputs": [
    {
     "data": {
      "text/plain": [
       "<Response [401]>"
      ]
     },
     "execution_count": 9,
     "metadata": {},
     "output_type": "execute_result"
    }
   ],
   "source": [
    "maker= requests.get(url)\n",
    "maker"
   ]
  }
 ],
 "metadata": {
  "kernelspec": {
   "display_name": "Python 3",
   "language": "python",
   "name": "python3"
  },
  "language_info": {
   "codemirror_mode": {
    "name": "ipython",
    "version": 3
   },
   "file_extension": ".py",
   "mimetype": "text/x-python",
   "name": "python",
   "nbconvert_exporter": "python",
   "pygments_lexer": "ipython3",
   "version": "3.12.1"
  }
 },
 "nbformat": 4,
 "nbformat_minor": 5
}
